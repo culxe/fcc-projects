{
 "cells": [
  {
   "cell_type": "code",
   "execution_count": 1,
   "metadata": {},
   "outputs": [
    {
     "name": "stdout",
     "output_type": "stream",
     "text": [
      "{'mean': [[3.0, 4.0, 5.0], [1.0, 4.0, 7.0], 4.0]}\n"
     ]
    }
   ],
   "source": [
    "import numpy as np\n",
    "\n",
    "def calculate(lst):\n",
    "    # Konversi list menjadi array NumPy dan reshape menjadi matrix 3x3\n",
    "    matrix = np.array(lst).reshape(3, 3)\n",
    "\n",
    "    # Menghitung mean sepanjang axis 0, axis 1, dan seluruh elemen\n",
    "    mean_axis0 = np.mean(matrix, axis=0)\n",
    "    mean_axis1 = np.mean(matrix, axis=1)\n",
    "    mean_flattened = np.mean(matrix)\n",
    "\n",
    "    # Mengembalikan hasil dalam bentuk dictionary sesuai format yang diminta\n",
    "    result = {\n",
    "        'mean': [mean_axis0.tolist(), mean_axis1.tolist(), mean_flattened]\n",
    "    }\n",
    "    return result\n",
    "\n",
    "result = calculate([0, 1, 2, 3, 4, 5, 6, 7, 8])\n",
    "print(result)\n"
   ]
  }
 ],
 "metadata": {
  "kernelspec": {
   "display_name": "myproject_kernel",
   "language": "python",
   "name": "myproject_kernel"
  },
  "language_info": {
   "codemirror_mode": {
    "name": "ipython",
    "version": 3
   },
   "file_extension": ".py",
   "mimetype": "text/x-python",
   "name": "python",
   "nbconvert_exporter": "python",
   "pygments_lexer": "ipython3",
   "version": "3.12.4"
  }
 },
 "nbformat": 4,
 "nbformat_minor": 2
}
