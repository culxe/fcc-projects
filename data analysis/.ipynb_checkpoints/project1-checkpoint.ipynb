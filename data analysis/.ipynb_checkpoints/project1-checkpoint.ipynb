{
 "cells": [
  {
   "cell_type": "code",
   "execution_count": 2,
   "metadata": {},
   "outputs": [
    {
     "ename": "ModuleNotFoundError",
     "evalue": "No module named 'numpy'",
     "output_type": "error",
     "traceback": [
      "\u001b[1;31m---------------------------------------------------------------------------\u001b[0m",
      "\u001b[1;31mModuleNotFoundError\u001b[0m                       Traceback (most recent call last)",
      "Cell \u001b[1;32mIn[2], line 1\u001b[0m\n\u001b[1;32m----> 1\u001b[0m \u001b[38;5;28;01mimport\u001b[39;00m \u001b[38;5;21;01mnumpy\u001b[39;00m \u001b[38;5;28;01mas\u001b[39;00m \u001b[38;5;21;01mnp\u001b[39;00m\n\u001b[0;32m      3\u001b[0m \u001b[38;5;28;01mdef\u001b[39;00m \u001b[38;5;21mcalculate\u001b[39m(lst):\n\u001b[0;32m      4\u001b[0m     \u001b[38;5;66;03m# Konversi list menjadi array NumPy dan reshape menjadi matrix 3x3\u001b[39;00m\n\u001b[0;32m      5\u001b[0m     matrix \u001b[38;5;241m=\u001b[39m np\u001b[38;5;241m.\u001b[39marray(lst)\u001b[38;5;241m.\u001b[39mreshape(\u001b[38;5;241m3\u001b[39m, \u001b[38;5;241m3\u001b[39m)\n",
      "\u001b[1;31mModuleNotFoundError\u001b[0m: No module named 'numpy'"
     ]
    }
   ],
   "source": [
    "import numpy as np\n",
    "\n",
    "def calculate(lst):\n",
    "    # Konversi list menjadi array NumPy dan reshape menjadi matrix 3x3\n",
    "    matrix = np.array(lst).reshape(3, 3)\n",
    "\n",
    "    # Menghitung mean sepanjang axis 0, axis 1, dan seluruh elemen\n",
    "    mean_axis0 = np.mean(matrix, axis=0)\n",
    "    mean_axis1 = np.mean(matrix, axis=1)\n",
    "    mean_flattened = np.mean(matrix)\n",
    "\n",
    "    # Mengembalikan hasil dalam bentuk dictionary sesuai format yang diminta\n",
    "    result = {\n",
    "        'mean': [mean_axis0.tolist(), mean_axis1.tolist(), mean_flattened]\n",
    "    }\n",
    "    return result\n",
    "\n",
    "result = calculate([0, 1, 2, 3, 4, 5, 6, 7, 8])\n",
    "print(result)\n"
   ]
  }
 ],
 "metadata": {
  "language_info": {
   "name": "python"
  }
 },
 "nbformat": 4,
 "nbformat_minor": 2
}
